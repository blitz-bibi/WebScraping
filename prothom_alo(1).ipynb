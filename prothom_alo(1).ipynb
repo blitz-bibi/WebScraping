{
  "nbformat": 4,
  "nbformat_minor": 0,
  "metadata": {
    "colab": {
      "name": "prothom_alo.ipynb",
      "provenance": [],
      "collapsed_sections": []
    },
    "kernelspec": {
      "display_name": "Python 3",
      "name": "python3"
    },
    "language_info": {
      "name": "python"
    }
  },
  "cells": [
    {
      "cell_type": "code",
      "metadata": {
        "id": "6URzJ_1az3y3"
      },
      "source": [
        "from urllib.request import urlopen,Request\n",
        "from bs4 import BeautifulSoup"
      ],
      "execution_count": null,
      "outputs": []
    },
    {
      "cell_type": "code",
      "metadata": {
        "id": "AA11n5S3z6Ei"
      },
      "source": [
        "import requests\n",
        "\n",
        "#url = \"https://www.prothomalo.com/api/v1/advanced-search?offset=0&limit=20&sort=published-at%3Aasc&q=%E0%A6%95%E0%A6%B0%E0%A7%8B%E0%A6%A8%E0%A6%BE\"\n",
        "url = \"https://www.facebook.com/x/oauth/status?client_id=481716718696346&input_token&origin=2&redirect_uri=http%3A%2F%2Fwww.u71news.com%2F%3Fpage%3Dsearch%26q%3D%25E0%25A6%2595%25E0%25A6%25B0%25E0%25A7%258B%25E0%25A6%25A8%25E0%25A6%25BE%26cat%3D%26submit%3D%26limit%3D5&sdk=joey&wants_cookie_data=false\"\n",
        "\n",
        "payload={}\n",
        "headers = {\n",
        "  'sec-ch-ua': '\" Not A;Brand\";v=\"99\", \"Chromium\";v=\"90\", \"Google Chrome\";v=\"90\"',\n",
        "  'sec-ch-ua-mobile': '?0',\n",
        "  'User-Agent': 'Mozilla/5.0 (Windows NT 10.0; Win64; x64) AppleWebKit/537.36 (KHTML, like Gecko) Chrome/90.0.4430.93 Safari/537.36',\n",
        "  'Accept': '*/*',\n",
        "  'Cookie': '__cfduid=dd6c9df947d1e4765879383aeffbae6491620502111'\n",
        "}\n",
        "\n",
        "response = requests.request(\"GET\", url, headers=headers, data=payload)"
      ],
      "execution_count": null,
      "outputs": []
    },
    {
      "cell_type": "code",
      "metadata": {
        "id": "VCDKvGz80EAC",
        "colab": {
          "base_uri": "https://localhost:8080/",
          "height": 317
        },
        "outputId": "33eb6df3-3850-400e-f4c1-f6f90fe0b74f"
      },
      "source": [
        "json_data = response.json()\n",
        "json_data['items'][0]['slug']"
      ],
      "execution_count": null,
      "outputs": [
        {
          "output_type": "error",
          "ename": "JSONDecodeError",
          "evalue": "ignored",
          "traceback": [
            "\u001b[0;31m---------------------------------------------------------------------------\u001b[0m",
            "\u001b[0;31mJSONDecodeError\u001b[0m                           Traceback (most recent call last)",
            "\u001b[0;32m<ipython-input-41-d5e657810b73>\u001b[0m in \u001b[0;36m<module>\u001b[0;34m()\u001b[0m\n\u001b[0;32m----> 1\u001b[0;31m \u001b[0mjson_data\u001b[0m \u001b[0;34m=\u001b[0m \u001b[0mresponse\u001b[0m\u001b[0;34m.\u001b[0m\u001b[0mjson\u001b[0m\u001b[0;34m(\u001b[0m\u001b[0;34m)\u001b[0m\u001b[0;34m\u001b[0m\u001b[0;34m\u001b[0m\u001b[0m\n\u001b[0m\u001b[1;32m      2\u001b[0m \u001b[0mjson_data\u001b[0m\u001b[0;34m[\u001b[0m\u001b[0;34m'items'\u001b[0m\u001b[0;34m]\u001b[0m\u001b[0;34m[\u001b[0m\u001b[0;36m0\u001b[0m\u001b[0;34m]\u001b[0m\u001b[0;34m[\u001b[0m\u001b[0;34m'slug'\u001b[0m\u001b[0;34m]\u001b[0m\u001b[0;34m\u001b[0m\u001b[0;34m\u001b[0m\u001b[0m\n",
            "\u001b[0;32m/usr/local/lib/python3.7/dist-packages/requests/models.py\u001b[0m in \u001b[0;36mjson\u001b[0;34m(self, **kwargs)\u001b[0m\n\u001b[1;32m    896\u001b[0m                     \u001b[0;31m# used.\u001b[0m\u001b[0;34m\u001b[0m\u001b[0;34m\u001b[0m\u001b[0;34m\u001b[0m\u001b[0m\n\u001b[1;32m    897\u001b[0m                     \u001b[0;32mpass\u001b[0m\u001b[0;34m\u001b[0m\u001b[0;34m\u001b[0m\u001b[0m\n\u001b[0;32m--> 898\u001b[0;31m         \u001b[0;32mreturn\u001b[0m \u001b[0mcomplexjson\u001b[0m\u001b[0;34m.\u001b[0m\u001b[0mloads\u001b[0m\u001b[0;34m(\u001b[0m\u001b[0mself\u001b[0m\u001b[0;34m.\u001b[0m\u001b[0mtext\u001b[0m\u001b[0;34m,\u001b[0m \u001b[0;34m**\u001b[0m\u001b[0mkwargs\u001b[0m\u001b[0;34m)\u001b[0m\u001b[0;34m\u001b[0m\u001b[0;34m\u001b[0m\u001b[0m\n\u001b[0m\u001b[1;32m    899\u001b[0m \u001b[0;34m\u001b[0m\u001b[0m\n\u001b[1;32m    900\u001b[0m     \u001b[0;34m@\u001b[0m\u001b[0mproperty\u001b[0m\u001b[0;34m\u001b[0m\u001b[0;34m\u001b[0m\u001b[0m\n",
            "\u001b[0;32m/usr/lib/python3.7/json/__init__.py\u001b[0m in \u001b[0;36mloads\u001b[0;34m(s, encoding, cls, object_hook, parse_float, parse_int, parse_constant, object_pairs_hook, **kw)\u001b[0m\n\u001b[1;32m    346\u001b[0m             \u001b[0mparse_int\u001b[0m \u001b[0;32mis\u001b[0m \u001b[0;32mNone\u001b[0m \u001b[0;32mand\u001b[0m \u001b[0mparse_float\u001b[0m \u001b[0;32mis\u001b[0m \u001b[0;32mNone\u001b[0m \u001b[0;32mand\u001b[0m\u001b[0;34m\u001b[0m\u001b[0;34m\u001b[0m\u001b[0m\n\u001b[1;32m    347\u001b[0m             parse_constant is None and object_pairs_hook is None and not kw):\n\u001b[0;32m--> 348\u001b[0;31m         \u001b[0;32mreturn\u001b[0m \u001b[0m_default_decoder\u001b[0m\u001b[0;34m.\u001b[0m\u001b[0mdecode\u001b[0m\u001b[0;34m(\u001b[0m\u001b[0ms\u001b[0m\u001b[0;34m)\u001b[0m\u001b[0;34m\u001b[0m\u001b[0;34m\u001b[0m\u001b[0m\n\u001b[0m\u001b[1;32m    349\u001b[0m     \u001b[0;32mif\u001b[0m \u001b[0mcls\u001b[0m \u001b[0;32mis\u001b[0m \u001b[0;32mNone\u001b[0m\u001b[0;34m:\u001b[0m\u001b[0;34m\u001b[0m\u001b[0;34m\u001b[0m\u001b[0m\n\u001b[1;32m    350\u001b[0m         \u001b[0mcls\u001b[0m \u001b[0;34m=\u001b[0m \u001b[0mJSONDecoder\u001b[0m\u001b[0;34m\u001b[0m\u001b[0;34m\u001b[0m\u001b[0m\n",
            "\u001b[0;32m/usr/lib/python3.7/json/decoder.py\u001b[0m in \u001b[0;36mdecode\u001b[0;34m(self, s, _w)\u001b[0m\n\u001b[1;32m    335\u001b[0m \u001b[0;34m\u001b[0m\u001b[0m\n\u001b[1;32m    336\u001b[0m         \"\"\"\n\u001b[0;32m--> 337\u001b[0;31m         \u001b[0mobj\u001b[0m\u001b[0;34m,\u001b[0m \u001b[0mend\u001b[0m \u001b[0;34m=\u001b[0m \u001b[0mself\u001b[0m\u001b[0;34m.\u001b[0m\u001b[0mraw_decode\u001b[0m\u001b[0;34m(\u001b[0m\u001b[0ms\u001b[0m\u001b[0;34m,\u001b[0m \u001b[0midx\u001b[0m\u001b[0;34m=\u001b[0m\u001b[0m_w\u001b[0m\u001b[0;34m(\u001b[0m\u001b[0ms\u001b[0m\u001b[0;34m,\u001b[0m \u001b[0;36m0\u001b[0m\u001b[0;34m)\u001b[0m\u001b[0;34m.\u001b[0m\u001b[0mend\u001b[0m\u001b[0;34m(\u001b[0m\u001b[0;34m)\u001b[0m\u001b[0;34m)\u001b[0m\u001b[0;34m\u001b[0m\u001b[0;34m\u001b[0m\u001b[0m\n\u001b[0m\u001b[1;32m    338\u001b[0m         \u001b[0mend\u001b[0m \u001b[0;34m=\u001b[0m \u001b[0m_w\u001b[0m\u001b[0;34m(\u001b[0m\u001b[0ms\u001b[0m\u001b[0;34m,\u001b[0m \u001b[0mend\u001b[0m\u001b[0;34m)\u001b[0m\u001b[0;34m.\u001b[0m\u001b[0mend\u001b[0m\u001b[0;34m(\u001b[0m\u001b[0;34m)\u001b[0m\u001b[0;34m\u001b[0m\u001b[0;34m\u001b[0m\u001b[0m\n\u001b[1;32m    339\u001b[0m         \u001b[0;32mif\u001b[0m \u001b[0mend\u001b[0m \u001b[0;34m!=\u001b[0m \u001b[0mlen\u001b[0m\u001b[0;34m(\u001b[0m\u001b[0ms\u001b[0m\u001b[0;34m)\u001b[0m\u001b[0;34m:\u001b[0m\u001b[0;34m\u001b[0m\u001b[0;34m\u001b[0m\u001b[0m\n",
            "\u001b[0;32m/usr/lib/python3.7/json/decoder.py\u001b[0m in \u001b[0;36mraw_decode\u001b[0;34m(self, s, idx)\u001b[0m\n\u001b[1;32m    353\u001b[0m             \u001b[0mobj\u001b[0m\u001b[0;34m,\u001b[0m \u001b[0mend\u001b[0m \u001b[0;34m=\u001b[0m \u001b[0mself\u001b[0m\u001b[0;34m.\u001b[0m\u001b[0mscan_once\u001b[0m\u001b[0;34m(\u001b[0m\u001b[0ms\u001b[0m\u001b[0;34m,\u001b[0m \u001b[0midx\u001b[0m\u001b[0;34m)\u001b[0m\u001b[0;34m\u001b[0m\u001b[0;34m\u001b[0m\u001b[0m\n\u001b[1;32m    354\u001b[0m         \u001b[0;32mexcept\u001b[0m \u001b[0mStopIteration\u001b[0m \u001b[0;32mas\u001b[0m \u001b[0merr\u001b[0m\u001b[0;34m:\u001b[0m\u001b[0;34m\u001b[0m\u001b[0;34m\u001b[0m\u001b[0m\n\u001b[0;32m--> 355\u001b[0;31m             \u001b[0;32mraise\u001b[0m \u001b[0mJSONDecodeError\u001b[0m\u001b[0;34m(\u001b[0m\u001b[0;34m\"Expecting value\"\u001b[0m\u001b[0;34m,\u001b[0m \u001b[0ms\u001b[0m\u001b[0;34m,\u001b[0m \u001b[0merr\u001b[0m\u001b[0;34m.\u001b[0m\u001b[0mvalue\u001b[0m\u001b[0;34m)\u001b[0m \u001b[0;32mfrom\u001b[0m \u001b[0;32mNone\u001b[0m\u001b[0;34m\u001b[0m\u001b[0;34m\u001b[0m\u001b[0m\n\u001b[0m\u001b[1;32m    356\u001b[0m         \u001b[0;32mreturn\u001b[0m \u001b[0mobj\u001b[0m\u001b[0;34m,\u001b[0m \u001b[0mend\u001b[0m\u001b[0;34m\u001b[0m\u001b[0;34m\u001b[0m\u001b[0m\n",
            "\u001b[0;31mJSONDecodeError\u001b[0m: Expecting value: line 1 column 1 (char 0)"
          ]
        }
      ]
    },
    {
      "cell_type": "code",
      "metadata": {
        "id": "WXXRrGhvs66j",
        "colab": {
          "base_uri": "https://localhost:8080/"
        },
        "outputId": "943ff481-64d1-4fcd-e68e-0592273f9384"
      },
      "source": [
        "my_list = []\n",
        "for i in range(len(json_data['items'])):\n",
        "    my_list.append(json_data['items'][i]['slug'])\n",
        "    print(json_data['items'][i]['slug'],',')\n",
        "    print(i)"
      ],
      "execution_count": null,
      "outputs": [
        {
          "output_type": "stream",
          "text": [
            "onnoalo/poem/করোনা-3 ,\n",
            "0\n",
            "life/করোনা-4 ,\n",
            "1\n",
            "onnoalo/stories/করোনা-2 ,\n",
            "2\n",
            "bangladesh/coronavirus/করোনা ,\n",
            "3\n",
            "life/durporobash/করোনা-সমাচার-2 ,\n",
            "4\n",
            "onnoalo/stories/করোনা-পজিটিভ ,\n",
            "5\n",
            "opinion/editorial/করোনা-পরীক্ষা ,\n",
            "6\n",
            "করোনা-সমাচার ,\n",
            "7\n",
            "bangladesh/coronavirus/মরুভূমির-করোনা ,\n",
            "8\n",
            "life/durporobash/মৃত্যুদূত-করোনা ,\n",
            "9\n",
            "comics/টিম-করোনা ,\n",
            "10\n",
            "করোনা-শেষে ,\n",
            "11\n",
            "life/করোনা-ধরা ,\n",
            "12\n",
            "opinion/column/করোনা–কাল ,\n",
            "13\n",
            "poll/করোনা-মহামারির-মধ্যে-ঢাকা-ওয়াসার-পানির-দাম-বাড়ানোর-ঘোষণা-যৌক্তিক-বলে-মনে-করেন-কি ,\n",
            "14\n",
            "bangladesh/district/রাজশাহী-মেডিকেলে-২৪-ঘণ্টায়-আরও-চার-করোনা-রোগীর-মৃত্যু ,\n",
            "15\n",
            "bangladesh/district/রাজশাহী-বিভাগে-৩৪-হাজার-ছাড়াল-শনাক্ত-করোনা-রোগী ,\n",
            "16\n",
            "world/asia/সিঙ্গাপুরে-৬০-সেকেন্ডেই-করোনা-পরীক্ষা ,\n",
            "17\n",
            "bangladesh/district/নড়াইলে-করোনা-টিকার-মজুত-শেষ-উদ্বিগ্ন-টিকাগ্রহীতারা ,\n",
            "18\n",
            "bangladesh/district/রাজশাহীতে-করোনা-ও-উপসর্গ-নিয়ে-৩০-ঘণ্টায়-১০-জনের-মৃত্যু ,\n",
            "19\n"
          ],
          "name": "stdout"
        }
      ]
    },
    {
      "cell_type": "code",
      "metadata": {
        "id": "K3iKXnB6tCLZ",
        "colab": {
          "base_uri": "https://localhost:8080/"
        },
        "outputId": "30809220-ff02-470a-b07d-6cf8de70e993"
      },
      "source": [
        "url = 'https://www.prothomalo.com/'\n",
        "bs_url_list = []\n",
        "for i in range(len(my_list)):\n",
        "    bs_url_list.append(url+my_list[i])\n",
        "    print(url+my_list[i])"
      ],
      "execution_count": null,
      "outputs": [
        {
          "output_type": "stream",
          "text": [
            "https://www.prothomalo.com/poll/করোনা-মহামারির-মধ্যে-ঢাকা-ওয়াসার-পানির-দাম-বাড়ানোর-ঘোষণা-যৌক্তিক-বলে-মনে-করেন-কি\n",
            "https://www.prothomalo.com/world/asia/সিঙ্গাপুরে-৬০-সেকেন্ডেই-করোনা-পরীক্ষা\n",
            "https://www.prothomalo.com/bangladesh/district/নড়াইলে-করোনা-টিকার-মজুত-শেষ-উদ্বিগ্ন-টিকাগ্রহীতারা\n",
            "https://www.prothomalo.com/bangladesh/district/রাজশাহীতে-করোনা-ও-উপসর্গ-নিয়ে-৩০-ঘণ্টায়-১০-জনের-মৃত্যু\n",
            "https://www.prothomalo.com/world/europe/করোনা-শনাক্ত-করতে-পারে-কুকুর-গবেষণা\n",
            "https://www.prothomalo.com/bangladesh/coronavirus/ছয়-জেলায়-করোনা-টিকার-মজুত-শেষ\n"
          ],
          "name": "stdout"
        }
      ]
    },
    {
      "cell_type": "code",
      "metadata": {
        "id": "iY479--_tEZR"
      },
      "source": [
        "req = Request(url,headers={'User-Agent': 'Mozilla/5.0'})"
      ],
      "execution_count": null,
      "outputs": []
    },
    {
      "cell_type": "code",
      "metadata": {
        "id": "uKbzESp6tOTx",
        "colab": {
          "base_uri": "https://localhost:8080/"
        },
        "outputId": "6c024e93-bf07-47dd-c74c-29190016e43b"
      },
      "source": [
        "import re\n",
        "from datetime import datetime\n",
        "from dateutil import parser\n",
        "import pandas as pd\n",
        "\n",
        "data = [['Alex',10],['Bob',12],['Clarke',13]]\n",
        "data1 = [['Alex', 10]]\n",
        "df = pd.DataFrame(data,columns=['title','content'])\n",
        "\n",
        "count = 0\n",
        "\n",
        "\n",
        "for i in range(len(bs_url_list)):\n",
        "    bs_url = bs_url_list[i]\n",
        "    html_text = requests.get(bs_url).text\n",
        "    soup = BeautifulSoup(html_text, 'html.parser')\n",
        "\n",
        "    bar =''\n",
        "    bar1=''\n",
        "    for foo in soup.find_all('div', {'class': 'story-content no-key-elements'}):\n",
        "        bar = foo.find('div')\n",
        "        data = str(bar)\n",
        "\n",
        "        data = \"\".join(i for i in data if i in [\".\",\"।\"] or 2432 <= ord(i) <= 2559 or ord(i)== 32)\n",
        "        re.sub(' +', ' ', data)\n",
        "    \n",
        "    for foo1 in soup.find_all('div', {'class': 'author-name-location-wrapper'}):\n",
        "        bar1 = foo1.find_all('span', {'class': 'contributor-name contributor-m__contributor-name__1-593'})\n",
        "        data1 = str(bar1)\n",
        "\n",
        "        data1 = \"\".join(i for i in data1 if i in [\".\",\"।\"] or 2432 <= ord(i) <= 2559 or ord(i)== 32)\n",
        "        re.sub(' +', ' ', data1)\n",
        "\n",
        "    dateTime = soup.find_all('time')\n",
        "    date = str(dateTime)\n",
        "\n",
        "    date = \"\".join(i for i in date if i in [\".\",\"।\"] or 2432 <= ord(i) <= 2559 or ord(i)== 32)\n",
        "    re.sub(' +', ' ', date)\n",
        "\n",
        "    #REGEX for date\n",
        "    reDate = re.sub(\"সোমবার ২৪ মে ২০২১\", \"\", date)\n",
        "    reDate = re.sub(\"প্রকাশ\", \"\", reDate)\n",
        "    reDate = re.sub(\"আপডেট\", \"\", reDate)\n",
        "\n",
        "    #REGEX for date\n",
        "    reData = re.sub(\"বিজ্ঞাপন\", \" \", data)\n",
        "    reData = re.sub('\\.', \" \", reData)\n",
        "\n",
        "    #REGEX for author\n",
        "    #reData1 = re.sub(\"        \", \"\", data1)\n",
        "    \n",
        "    print(count)\n",
        "    count = count + 1\n",
        "    print(data1)\n",
        "    \n",
        "\n",
        "    df = df.append({'title':my_list[i],'content': reData, 'date': reDate, 'link': bs_url_list[i], 'author': data1}, ignore_index=True)"
      ],
      "execution_count": null,
      "outputs": [
        {
          "output_type": "stream",
          "text": [
            "0\n",
            "  প্রথম আলো ডেস্ক\n",
            "1\n",
            "  প্রথম আলো ডেস্ক\n",
            "2\n",
            "  প্রতিনিধি\n",
            "3\n",
            "  নিজস্ব প্রতিবেদক\n",
            "4\n",
            "  প্রথম আলো ডেস্ক\n",
            "5\n",
            "  বিশেষ প্রতিনিধি\n"
          ],
          "name": "stdout"
        }
      ]
    },
    {
      "cell_type": "code",
      "metadata": {
        "id": "Vxv62U9vxQ4f",
        "colab": {
          "base_uri": "https://localhost:8080/",
          "height": 370
        },
        "outputId": "c62d3cfb-0a91-4b80-8dd0-307f10c9409f"
      },
      "source": [
        "df.tail()"
      ],
      "execution_count": null,
      "outputs": [
        {
          "output_type": "execute_result",
          "data": {
            "text/html": [
              "<div>\n",
              "<style scoped>\n",
              "    .dataframe tbody tr th:only-of-type {\n",
              "        vertical-align: middle;\n",
              "    }\n",
              "\n",
              "    .dataframe tbody tr th {\n",
              "        vertical-align: top;\n",
              "    }\n",
              "\n",
              "    .dataframe thead th {\n",
              "        text-align: right;\n",
              "    }\n",
              "</style>\n",
              "<table border=\"1\" class=\"dataframe\">\n",
              "  <thead>\n",
              "    <tr style=\"text-align: right;\">\n",
              "      <th></th>\n",
              "      <th>title</th>\n",
              "      <th>content</th>\n",
              "      <th>author</th>\n",
              "      <th>date</th>\n",
              "      <th>link</th>\n",
              "    </tr>\n",
              "  </thead>\n",
              "  <tbody>\n",
              "    <tr>\n",
              "      <th>4</th>\n",
              "      <td>world/asia/সিঙ্গাপুরে-৬০-সেকেন্ডেই-করোনা-পরীক্ষা</td>\n",
              "      <td>করোনাভাইরাস শনাক্ত করা যাবে মা...</td>\n",
              "      <td>প্রথম আলো ডেস্ক</td>\n",
              "      <td>বুধবার ২৬ মে ২০২১   ২৪ মে ২০২১ ২৩ ৫১</td>\n",
              "      <td>https://www.prothomalo.com/world/asia/সিঙ্গাপু...</td>\n",
              "    </tr>\n",
              "    <tr>\n",
              "      <th>5</th>\n",
              "      <td>bangladesh/district/নড়াইলে-করোনা-টিকার-মজুত-শে...</td>\n",
              "      <td>নড়াইল জেলায় করোনার টিকা ফুরিয়ে...</td>\n",
              "      <td>প্রতিনিধি</td>\n",
              "      <td>বুধবার ২৬ মে ২০২১   ২৪ মে ২০২১ ১৬ ১০</td>\n",
              "      <td>https://www.prothomalo.com/bangladesh/district...</td>\n",
              "    </tr>\n",
              "    <tr>\n",
              "      <th>6</th>\n",
              "      <td>bangladesh/district/রাজশাহীতে-করোনা-ও-উপসর্গ-ন...</td>\n",
              "      <td>রাজশাহী মেডিকেল কলেজ হাসপাতালে...</td>\n",
              "      <td>নিজস্ব প্রতিবেদক</td>\n",
              "      <td>বুধবার ২৬ মে ২০২১   ২৪ মে ২০২১ ১৬ ৪৩</td>\n",
              "      <td>https://www.prothomalo.com/bangladesh/district...</td>\n",
              "    </tr>\n",
              "    <tr>\n",
              "      <th>7</th>\n",
              "      <td>world/europe/করোনা-শনাক্ত-করতে-পারে-কুকুর-গবেষণা</td>\n",
              "      <td>করোনাভাইরাসের সংক্রমণ শনাক্ত ক...</td>\n",
              "      <td>প্রথম আলো ডেস্ক</td>\n",
              "      <td>বুধবার ২৬ মে ২০২১   ২৪ মে ২০২১ ১৪ ০৭</td>\n",
              "      <td>https://www.prothomalo.com/world/europe/করোনা-...</td>\n",
              "    </tr>\n",
              "    <tr>\n",
              "      <th>8</th>\n",
              "      <td>bangladesh/coronavirus/ছয়-জেলায়-করোনা-টিকার-মজ...</td>\n",
              "      <td>ছয় জেলায় করোনার টিকা ফুরিয়ে গে...</td>\n",
              "      <td>বিশেষ প্রতিনিধি</td>\n",
              "      <td>বুধবার ২৬ মে ২০২১   ২৪ মে ২০২১ ০১ ৩২</td>\n",
              "      <td>https://www.prothomalo.com/bangladesh/coronavi...</td>\n",
              "    </tr>\n",
              "  </tbody>\n",
              "</table>\n",
              "</div>"
            ],
            "text/plain": [
              "                                               title  ...                                               link\n",
              "4   world/asia/সিঙ্গাপুরে-৬০-সেকেন্ডেই-করোনা-পরীক্ষা  ...  https://www.prothomalo.com/world/asia/সিঙ্গাপু...\n",
              "5  bangladesh/district/নড়াইলে-করোনা-টিকার-মজুত-শে...  ...  https://www.prothomalo.com/bangladesh/district...\n",
              "6  bangladesh/district/রাজশাহীতে-করোনা-ও-উপসর্গ-ন...  ...  https://www.prothomalo.com/bangladesh/district...\n",
              "7   world/europe/করোনা-শনাক্ত-করতে-পারে-কুকুর-গবেষণা  ...  https://www.prothomalo.com/world/europe/করোনা-...\n",
              "8  bangladesh/coronavirus/ছয়-জেলায়-করোনা-টিকার-মজ...  ...  https://www.prothomalo.com/bangladesh/coronavi...\n",
              "\n",
              "[5 rows x 5 columns]"
            ]
          },
          "metadata": {
            "tags": []
          },
          "execution_count": 8
        }
      ]
    },
    {
      "cell_type": "code",
      "metadata": {
        "id": "Taid7pIyxdid"
      },
      "source": [
        "df['title'] = df.title.str.split('/').str[-1]"
      ],
      "execution_count": null,
      "outputs": []
    },
    {
      "cell_type": "code",
      "metadata": {
        "colab": {
          "base_uri": "https://localhost:8080/",
          "height": 475
        },
        "id": "9Z4ZYTeWxiqr",
        "outputId": "e2cdf549-aa32-4cbb-a84b-71e1ac17a0bb"
      },
      "source": [
        "df"
      ],
      "execution_count": null,
      "outputs": [
        {
          "output_type": "execute_result",
          "data": {
            "text/html": [
              "<div>\n",
              "<style scoped>\n",
              "    .dataframe tbody tr th:only-of-type {\n",
              "        vertical-align: middle;\n",
              "    }\n",
              "\n",
              "    .dataframe tbody tr th {\n",
              "        vertical-align: top;\n",
              "    }\n",
              "\n",
              "    .dataframe thead th {\n",
              "        text-align: right;\n",
              "    }\n",
              "</style>\n",
              "<table border=\"1\" class=\"dataframe\">\n",
              "  <thead>\n",
              "    <tr style=\"text-align: right;\">\n",
              "      <th></th>\n",
              "      <th>title</th>\n",
              "      <th>content</th>\n",
              "      <th>author</th>\n",
              "      <th>date</th>\n",
              "      <th>link</th>\n",
              "    </tr>\n",
              "  </thead>\n",
              "  <tbody>\n",
              "    <tr>\n",
              "      <th>0</th>\n",
              "      <td>Alex</td>\n",
              "      <td>10</td>\n",
              "      <td>NaN</td>\n",
              "      <td>NaN</td>\n",
              "      <td>NaN</td>\n",
              "    </tr>\n",
              "    <tr>\n",
              "      <th>1</th>\n",
              "      <td>Bob</td>\n",
              "      <td>12</td>\n",
              "      <td>NaN</td>\n",
              "      <td>NaN</td>\n",
              "      <td>NaN</td>\n",
              "    </tr>\n",
              "    <tr>\n",
              "      <th>2</th>\n",
              "      <td>Clarke</td>\n",
              "      <td>13</td>\n",
              "      <td>NaN</td>\n",
              "      <td>NaN</td>\n",
              "      <td>NaN</td>\n",
              "    </tr>\n",
              "    <tr>\n",
              "      <th>3</th>\n",
              "      <td>করোনা-মহামারির-মধ্যে-ঢাকা-ওয়াসার-পানির-দাম-বাড়...</td>\n",
              "      <td></td>\n",
              "      <td>প্রথম আলো ডেস্ক</td>\n",
              "      <td>বুধবার ২৬ মে ২০২১   ২৫ মে ২০২১ ২১ ০১</td>\n",
              "      <td>https://www.prothomalo.com/poll/করোনা-মহামারির...</td>\n",
              "    </tr>\n",
              "    <tr>\n",
              "      <th>4</th>\n",
              "      <td>সিঙ্গাপুরে-৬০-সেকেন্ডেই-করোনা-পরীক্ষা</td>\n",
              "      <td>করোনাভাইরাস শনাক্ত করা যাবে মা...</td>\n",
              "      <td>প্রথম আলো ডেস্ক</td>\n",
              "      <td>বুধবার ২৬ মে ২০২১   ২৪ মে ২০২১ ২৩ ৫১</td>\n",
              "      <td>https://www.prothomalo.com/world/asia/সিঙ্গাপু...</td>\n",
              "    </tr>\n",
              "    <tr>\n",
              "      <th>5</th>\n",
              "      <td>নড়াইলে-করোনা-টিকার-মজুত-শেষ-উদ্বিগ্ন-টিকাগ্রহী...</td>\n",
              "      <td>নড়াইল জেলায় করোনার টিকা ফুরিয়ে...</td>\n",
              "      <td>প্রতিনিধি</td>\n",
              "      <td>বুধবার ২৬ মে ২০২১   ২৪ মে ২০২১ ১৬ ১০</td>\n",
              "      <td>https://www.prothomalo.com/bangladesh/district...</td>\n",
              "    </tr>\n",
              "    <tr>\n",
              "      <th>6</th>\n",
              "      <td>রাজশাহীতে-করোনা-ও-উপসর্গ-নিয়ে-৩০-ঘণ্টায়-১০-জনে...</td>\n",
              "      <td>রাজশাহী মেডিকেল কলেজ হাসপাতালে...</td>\n",
              "      <td>নিজস্ব প্রতিবেদক</td>\n",
              "      <td>বুধবার ২৬ মে ২০২১   ২৪ মে ২০২১ ১৬ ৪৩</td>\n",
              "      <td>https://www.prothomalo.com/bangladesh/district...</td>\n",
              "    </tr>\n",
              "    <tr>\n",
              "      <th>7</th>\n",
              "      <td>করোনা-শনাক্ত-করতে-পারে-কুকুর-গবেষণা</td>\n",
              "      <td>করোনাভাইরাসের সংক্রমণ শনাক্ত ক...</td>\n",
              "      <td>প্রথম আলো ডেস্ক</td>\n",
              "      <td>বুধবার ২৬ মে ২০২১   ২৪ মে ২০২১ ১৪ ০৭</td>\n",
              "      <td>https://www.prothomalo.com/world/europe/করোনা-...</td>\n",
              "    </tr>\n",
              "    <tr>\n",
              "      <th>8</th>\n",
              "      <td>ছয়-জেলায়-করোনা-টিকার-মজুত-শেষ</td>\n",
              "      <td>ছয় জেলায় করোনার টিকা ফুরিয়ে গে...</td>\n",
              "      <td>বিশেষ প্রতিনিধি</td>\n",
              "      <td>বুধবার ২৬ মে ২০২১   ২৪ মে ২০২১ ০১ ৩২</td>\n",
              "      <td>https://www.prothomalo.com/bangladesh/coronavi...</td>\n",
              "    </tr>\n",
              "  </tbody>\n",
              "</table>\n",
              "</div>"
            ],
            "text/plain": [
              "                                               title  ...                                               link\n",
              "0                                               Alex  ...                                                NaN\n",
              "1                                                Bob  ...                                                NaN\n",
              "2                                             Clarke  ...                                                NaN\n",
              "3  করোনা-মহামারির-মধ্যে-ঢাকা-ওয়াসার-পানির-দাম-বাড়...  ...  https://www.prothomalo.com/poll/করোনা-মহামারির...\n",
              "4              সিঙ্গাপুরে-৬০-সেকেন্ডেই-করোনা-পরীক্ষা  ...  https://www.prothomalo.com/world/asia/সিঙ্গাপু...\n",
              "5  নড়াইলে-করোনা-টিকার-মজুত-শেষ-উদ্বিগ্ন-টিকাগ্রহী...  ...  https://www.prothomalo.com/bangladesh/district...\n",
              "6  রাজশাহীতে-করোনা-ও-উপসর্গ-নিয়ে-৩০-ঘণ্টায়-১০-জনে...  ...  https://www.prothomalo.com/bangladesh/district...\n",
              "7                করোনা-শনাক্ত-করতে-পারে-কুকুর-গবেষণা  ...  https://www.prothomalo.com/world/europe/করোনা-...\n",
              "8                      ছয়-জেলায়-করোনা-টিকার-মজুত-শেষ  ...  https://www.prothomalo.com/bangladesh/coronavi...\n",
              "\n",
              "[9 rows x 5 columns]"
            ]
          },
          "metadata": {
            "tags": []
          },
          "execution_count": 10
        }
      ]
    },
    {
      "cell_type": "code",
      "metadata": {
        "id": "TY_60QiN4R-S"
      },
      "source": [
        "import numpy as np"
      ],
      "execution_count": null,
      "outputs": []
    },
    {
      "cell_type": "code",
      "metadata": {
        "id": "8EvrW3Es4Rxk"
      },
      "source": [
        "raw_data = df.replace(r'^\\s*$', np.nan, regex=True)"
      ],
      "execution_count": null,
      "outputs": []
    },
    {
      "cell_type": "code",
      "metadata": {
        "colab": {
          "base_uri": "https://localhost:8080/",
          "height": 475
        },
        "id": "agBw66bd4uT3",
        "outputId": "57e0532f-7af8-4c7b-c789-b7a018ca1ac8"
      },
      "source": [
        "raw_data"
      ],
      "execution_count": null,
      "outputs": [
        {
          "output_type": "execute_result",
          "data": {
            "text/html": [
              "<div>\n",
              "<style scoped>\n",
              "    .dataframe tbody tr th:only-of-type {\n",
              "        vertical-align: middle;\n",
              "    }\n",
              "\n",
              "    .dataframe tbody tr th {\n",
              "        vertical-align: top;\n",
              "    }\n",
              "\n",
              "    .dataframe thead th {\n",
              "        text-align: right;\n",
              "    }\n",
              "</style>\n",
              "<table border=\"1\" class=\"dataframe\">\n",
              "  <thead>\n",
              "    <tr style=\"text-align: right;\">\n",
              "      <th></th>\n",
              "      <th>title</th>\n",
              "      <th>content</th>\n",
              "      <th>author</th>\n",
              "      <th>date</th>\n",
              "      <th>link</th>\n",
              "    </tr>\n",
              "  </thead>\n",
              "  <tbody>\n",
              "    <tr>\n",
              "      <th>0</th>\n",
              "      <td>Alex</td>\n",
              "      <td>10</td>\n",
              "      <td>NaN</td>\n",
              "      <td>NaN</td>\n",
              "      <td>NaN</td>\n",
              "    </tr>\n",
              "    <tr>\n",
              "      <th>1</th>\n",
              "      <td>Bob</td>\n",
              "      <td>12</td>\n",
              "      <td>NaN</td>\n",
              "      <td>NaN</td>\n",
              "      <td>NaN</td>\n",
              "    </tr>\n",
              "    <tr>\n",
              "      <th>2</th>\n",
              "      <td>Clarke</td>\n",
              "      <td>13</td>\n",
              "      <td>NaN</td>\n",
              "      <td>NaN</td>\n",
              "      <td>NaN</td>\n",
              "    </tr>\n",
              "    <tr>\n",
              "      <th>3</th>\n",
              "      <td>করোনা-মহামারির-মধ্যে-ঢাকা-ওয়াসার-পানির-দাম-বাড়...</td>\n",
              "      <td>NaN</td>\n",
              "      <td>প্রথম আলো ডেস্ক</td>\n",
              "      <td>বুধবার ২৬ মে ২০২১   ২৫ মে ২০২১ ২১ ০১</td>\n",
              "      <td>https://www.prothomalo.com/poll/করোনা-মহামারির...</td>\n",
              "    </tr>\n",
              "    <tr>\n",
              "      <th>4</th>\n",
              "      <td>সিঙ্গাপুরে-৬০-সেকেন্ডেই-করোনা-পরীক্ষা</td>\n",
              "      <td>করোনাভাইরাস শনাক্ত করা যাবে মা...</td>\n",
              "      <td>প্রথম আলো ডেস্ক</td>\n",
              "      <td>বুধবার ২৬ মে ২০২১   ২৪ মে ২০২১ ২৩ ৫১</td>\n",
              "      <td>https://www.prothomalo.com/world/asia/সিঙ্গাপু...</td>\n",
              "    </tr>\n",
              "    <tr>\n",
              "      <th>5</th>\n",
              "      <td>নড়াইলে-করোনা-টিকার-মজুত-শেষ-উদ্বিগ্ন-টিকাগ্রহী...</td>\n",
              "      <td>নড়াইল জেলায় করোনার টিকা ফুরিয়ে...</td>\n",
              "      <td>প্রতিনিধি</td>\n",
              "      <td>বুধবার ২৬ মে ২০২১   ২৪ মে ২০২১ ১৬ ১০</td>\n",
              "      <td>https://www.prothomalo.com/bangladesh/district...</td>\n",
              "    </tr>\n",
              "    <tr>\n",
              "      <th>6</th>\n",
              "      <td>রাজশাহীতে-করোনা-ও-উপসর্গ-নিয়ে-৩০-ঘণ্টায়-১০-জনে...</td>\n",
              "      <td>রাজশাহী মেডিকেল কলেজ হাসপাতালে...</td>\n",
              "      <td>নিজস্ব প্রতিবেদক</td>\n",
              "      <td>বুধবার ২৬ মে ২০২১   ২৪ মে ২০২১ ১৬ ৪৩</td>\n",
              "      <td>https://www.prothomalo.com/bangladesh/district...</td>\n",
              "    </tr>\n",
              "    <tr>\n",
              "      <th>7</th>\n",
              "      <td>করোনা-শনাক্ত-করতে-পারে-কুকুর-গবেষণা</td>\n",
              "      <td>করোনাভাইরাসের সংক্রমণ শনাক্ত ক...</td>\n",
              "      <td>প্রথম আলো ডেস্ক</td>\n",
              "      <td>বুধবার ২৬ মে ২০২১   ২৪ মে ২০২১ ১৪ ০৭</td>\n",
              "      <td>https://www.prothomalo.com/world/europe/করোনা-...</td>\n",
              "    </tr>\n",
              "    <tr>\n",
              "      <th>8</th>\n",
              "      <td>ছয়-জেলায়-করোনা-টিকার-মজুত-শেষ</td>\n",
              "      <td>ছয় জেলায় করোনার টিকা ফুরিয়ে গে...</td>\n",
              "      <td>বিশেষ প্রতিনিধি</td>\n",
              "      <td>বুধবার ২৬ মে ২০২১   ২৪ মে ২০২১ ০১ ৩২</td>\n",
              "      <td>https://www.prothomalo.com/bangladesh/coronavi...</td>\n",
              "    </tr>\n",
              "  </tbody>\n",
              "</table>\n",
              "</div>"
            ],
            "text/plain": [
              "                                               title  ...                                               link\n",
              "0                                               Alex  ...                                                NaN\n",
              "1                                                Bob  ...                                                NaN\n",
              "2                                             Clarke  ...                                                NaN\n",
              "3  করোনা-মহামারির-মধ্যে-ঢাকা-ওয়াসার-পানির-দাম-বাড়...  ...  https://www.prothomalo.com/poll/করোনা-মহামারির...\n",
              "4              সিঙ্গাপুরে-৬০-সেকেন্ডেই-করোনা-পরীক্ষা  ...  https://www.prothomalo.com/world/asia/সিঙ্গাপু...\n",
              "5  নড়াইলে-করোনা-টিকার-মজুত-শেষ-উদ্বিগ্ন-টিকাগ্রহী...  ...  https://www.prothomalo.com/bangladesh/district...\n",
              "6  রাজশাহীতে-করোনা-ও-উপসর্গ-নিয়ে-৩০-ঘণ্টায়-১০-জনে...  ...  https://www.prothomalo.com/bangladesh/district...\n",
              "7                করোনা-শনাক্ত-করতে-পারে-কুকুর-গবেষণা  ...  https://www.prothomalo.com/world/europe/করোনা-...\n",
              "8                      ছয়-জেলায়-করোনা-টিকার-মজুত-শেষ  ...  https://www.prothomalo.com/bangladesh/coronavi...\n",
              "\n",
              "[9 rows x 5 columns]"
            ]
          },
          "metadata": {
            "tags": []
          },
          "execution_count": 13
        }
      ]
    },
    {
      "cell_type": "code",
      "metadata": {
        "id": "t98-qZjLx1pG"
      },
      "source": [
        "new_data = raw_data.dropna()"
      ],
      "execution_count": null,
      "outputs": []
    },
    {
      "cell_type": "code",
      "metadata": {
        "colab": {
          "base_uri": "https://localhost:8080/",
          "height": 319
        },
        "id": "GxI0WQGW2UBQ",
        "outputId": "dcafbba9-959e-4da4-d263-ea664debd8bc"
      },
      "source": [
        "new_data"
      ],
      "execution_count": null,
      "outputs": [
        {
          "output_type": "execute_result",
          "data": {
            "text/html": [
              "<div>\n",
              "<style scoped>\n",
              "    .dataframe tbody tr th:only-of-type {\n",
              "        vertical-align: middle;\n",
              "    }\n",
              "\n",
              "    .dataframe tbody tr th {\n",
              "        vertical-align: top;\n",
              "    }\n",
              "\n",
              "    .dataframe thead th {\n",
              "        text-align: right;\n",
              "    }\n",
              "</style>\n",
              "<table border=\"1\" class=\"dataframe\">\n",
              "  <thead>\n",
              "    <tr style=\"text-align: right;\">\n",
              "      <th></th>\n",
              "      <th>title</th>\n",
              "      <th>content</th>\n",
              "      <th>author</th>\n",
              "      <th>date</th>\n",
              "      <th>link</th>\n",
              "    </tr>\n",
              "  </thead>\n",
              "  <tbody>\n",
              "    <tr>\n",
              "      <th>4</th>\n",
              "      <td>সিঙ্গাপুরে-৬০-সেকেন্ডেই-করোনা-পরীক্ষা</td>\n",
              "      <td>করোনাভাইরাস শনাক্ত করা যাবে মা...</td>\n",
              "      <td>প্রথম আলো ডেস্ক</td>\n",
              "      <td>বুধবার ২৬ মে ২০২১   ২৪ মে ২০২১ ২৩ ৫১</td>\n",
              "      <td>https://www.prothomalo.com/world/asia/সিঙ্গাপু...</td>\n",
              "    </tr>\n",
              "    <tr>\n",
              "      <th>5</th>\n",
              "      <td>নড়াইলে-করোনা-টিকার-মজুত-শেষ-উদ্বিগ্ন-টিকাগ্রহী...</td>\n",
              "      <td>নড়াইল জেলায় করোনার টিকা ফুরিয়ে...</td>\n",
              "      <td>প্রতিনিধি</td>\n",
              "      <td>বুধবার ২৬ মে ২০২১   ২৪ মে ২০২১ ১৬ ১০</td>\n",
              "      <td>https://www.prothomalo.com/bangladesh/district...</td>\n",
              "    </tr>\n",
              "    <tr>\n",
              "      <th>6</th>\n",
              "      <td>রাজশাহীতে-করোনা-ও-উপসর্গ-নিয়ে-৩০-ঘণ্টায়-১০-জনে...</td>\n",
              "      <td>রাজশাহী মেডিকেল কলেজ হাসপাতালে...</td>\n",
              "      <td>নিজস্ব প্রতিবেদক</td>\n",
              "      <td>বুধবার ২৬ মে ২০২১   ২৪ মে ২০২১ ১৬ ৪৩</td>\n",
              "      <td>https://www.prothomalo.com/bangladesh/district...</td>\n",
              "    </tr>\n",
              "    <tr>\n",
              "      <th>7</th>\n",
              "      <td>করোনা-শনাক্ত-করতে-পারে-কুকুর-গবেষণা</td>\n",
              "      <td>করোনাভাইরাসের সংক্রমণ শনাক্ত ক...</td>\n",
              "      <td>প্রথম আলো ডেস্ক</td>\n",
              "      <td>বুধবার ২৬ মে ২০২১   ২৪ মে ২০২১ ১৪ ০৭</td>\n",
              "      <td>https://www.prothomalo.com/world/europe/করোনা-...</td>\n",
              "    </tr>\n",
              "    <tr>\n",
              "      <th>8</th>\n",
              "      <td>ছয়-জেলায়-করোনা-টিকার-মজুত-শেষ</td>\n",
              "      <td>ছয় জেলায় করোনার টিকা ফুরিয়ে গে...</td>\n",
              "      <td>বিশেষ প্রতিনিধি</td>\n",
              "      <td>বুধবার ২৬ মে ২০২১   ২৪ মে ২০২১ ০১ ৩২</td>\n",
              "      <td>https://www.prothomalo.com/bangladesh/coronavi...</td>\n",
              "    </tr>\n",
              "  </tbody>\n",
              "</table>\n",
              "</div>"
            ],
            "text/plain": [
              "                                               title  ...                                               link\n",
              "4              সিঙ্গাপুরে-৬০-সেকেন্ডেই-করোনা-পরীক্ষা  ...  https://www.prothomalo.com/world/asia/সিঙ্গাপু...\n",
              "5  নড়াইলে-করোনা-টিকার-মজুত-শেষ-উদ্বিগ্ন-টিকাগ্রহী...  ...  https://www.prothomalo.com/bangladesh/district...\n",
              "6  রাজশাহীতে-করোনা-ও-উপসর্গ-নিয়ে-৩০-ঘণ্টায়-১০-জনে...  ...  https://www.prothomalo.com/bangladesh/district...\n",
              "7                করোনা-শনাক্ত-করতে-পারে-কুকুর-গবেষণা  ...  https://www.prothomalo.com/world/europe/করোনা-...\n",
              "8                      ছয়-জেলায়-করোনা-টিকার-মজুত-শেষ  ...  https://www.prothomalo.com/bangladesh/coronavi...\n",
              "\n",
              "[5 rows x 5 columns]"
            ]
          },
          "metadata": {
            "tags": []
          },
          "execution_count": 15
        }
      ]
    },
    {
      "cell_type": "code",
      "metadata": {
        "id": "84sV2FK-6JID"
      },
      "source": [
        "new_data.to_csv('/content/prothomAlo_3.csv',index=False)"
      ],
      "execution_count": null,
      "outputs": []
    },
    {
      "cell_type": "code",
      "metadata": {
        "colab": {
          "base_uri": "https://localhost:8080/"
        },
        "id": "XyWBgtBaSkfw",
        "outputId": "1514a02d-4ec7-45e0-dd36-1381da2a4b05"
      },
      "source": [
        "import requests\n",
        "from requests.exceptions import HTTPError\n",
        "from bs4 import BeautifulSoup\n",
        "\n",
        "i = 1\n",
        "\n",
        "def scrape_url(url, headers=None):\n",
        "    try:\n",
        "        page = requests.get(url, headers)\n",
        "        page.raise_for_status()\n",
        "    except HTTPError as e:\n",
        "        print(e)\n",
        "    except Exception as err:\n",
        "        print(err)\n",
        "    else:\n",
        "        soup = BeautifulSoup(page.content, 'html.parser')\n",
        "        soup = BeautifulSoup(soup.prettify(), 'html.parser')\n",
        "        return soup\n",
        "\n",
        "    return BeautifulSoup(\"\", 'html.parser')\n",
        "\n",
        "\n",
        "if __name__ == '__main__':\n",
        "  while(i != 3):\n",
        "    url = \"http://www.u71news.com/?page=search&q=%E0%A6%95%E0%A6%B0%E0%A7%8B%E0%A6%A8%E0%A6%BE&cat=&submit=&limit=\"\n",
        "    soup = scrape_url(url+str(i))\n",
        "    all_links = soup.find_all('a')\n",
        "    training_samples = ['করোনা', 'কোভিড-১৯', 'উহান-ভাইরাস', 'করোনায়', 'করোনার', 'করোনামুক্ত', 'করোনাভাইরাসে', 'করোনাভাইরাস']\n",
        "    for link in all_links:\n",
        "        title_words = link.get_text().strip().split()\n",
        "        if set(training_samples).intersection(set(title_words)):\n",
        "            print(\"Title: {}, Link: {}\".format(link.get_text().strip(), link.get('href')))\n",
        "    i += 1\n",
        "    print(i)\n",
        "  \n"
      ],
      "execution_count": null,
      "outputs": [
        {
          "output_type": "stream",
          "text": [
            "Title: করোনায় বিশ্বব্যাপী গড় মৃত্যুঝুঁকি কমছে, Link: http://www.u71news.com/?page=details&article=37.146906\n",
            "Title: করোনায় বিশ্বব্যাপী গড় মৃত্যুঝুঁকি কমছে, Link: http://www.u71news.com/?page=details&article=37.146906\n",
            "Title: করোনামুক্ত পুরো পরিবার, মুম্বাইয়ে ফিরলেন রণবীর-দীপিকা, Link: http://www.u71news.com/?page=details&article=29.174547\n",
            "Title: করোনামুক্ত পুরো পরিবার, মুম্বাইয়ে ফিরলেন রণবীর-দীপিকা, Link: http://www.u71news.com/?page=details&article=29.174547\n",
            "Title: আগৈলঝাড়ায় প্রায় ২ হাজার লোকের করোনার দ্বিতীয় ডোজ নেয়া অনিশ্চিত, Link: http://www.u71news.com/?page=details&article=20.174679\n",
            "Title: নওগাঁয় করোনায় একজনের মৃত্যু, Link: http://www.u71news.com/?page=details&article=20.174669\n",
            "Title: করোনায় ৪০ জনের মৃত্যু, শনাক্ত ১৬৭৫, Link: http://www.u71news.com/?page=details&article=86.174643\n",
            "Title: করোনায় আক্রান্ত প্রায় ১৬ কোটি ৮০ লাখ, Link: http://www.u71news.com/?page=details&article=86.174620\n",
            "Title: করোনায় ২৫ জনের মৃত্যু, শনাক্ত ১৪৪১, Link: http://www.u71news.com/?page=details&article=86.174557\n",
            "Title: করোনামুক্ত পুরো পরিবার, মুম্বাইয়ে ফিরলেন রণবীর-দীপিকা, Link: http://www.u71news.com/?page=details&article=29.174547\n",
            "Title: বিয়ের অনুষ্ঠানে গিয়ে করোনায় আক্রান্ত ৯৫, কনের বাবার মৃত্যু, Link: http://www.u71news.com/?page=details&article=86.174543\n",
            "Title: নড়াইলে করোনা রোগীদের জন্য প্রধানমন্ত্রীর উপহার, Link: http://www.u71news.com/?page=details&article=20.174534\n",
            "Title: করোনায় মৃত্যু ৩৪ লাখ ৭৮ হাজার ছাড়াল, Link: http://www.u71news.com/?page=details&article=86.174532\n",
            "Title: করোনা আক্রান্ত হয়ে সাতক্ষীরা মেডিকেলে বৃদ্ধের মৃত্যু, Link: http://www.u71news.com/?page=details&article=20.174521\n",
            "Title: রাজশাহীতে করোনায় একদিনে ১০ জনের মৃত্যু, Link: http://www.u71news.com/?page=details&article=20.174501\n",
            "Title: চলতি সপ্তাহের পর করোনা টিকা একেবারেই ফুরিয়ে যাবে, Link: http://www.u71news.com/?page=details&article=39.174458\n",
            "Title: করোনায় আক্রান্ত ১৬ কোটি ৭০ লাখ ছাড়াল, Link: http://www.u71news.com/?page=details&article=86.174420\n",
            "Title: করোনায় মৃত্যু ৩৮, শনাক্ত ১০২৮, Link: http://www.u71news.com/?page=details&article=86.174376\n",
            "Title: নড়াইলে করোনা ভ্যাকসিনের মজুদ শেষ হওয়ায় টিকাদান বন্ধ, Link: http://www.u71news.com/?page=details&article=20.174362\n",
            "Title: করোনায় একদিনে প্রায় ১৩ হাজার মানুষের মৃত্যু, Link: http://www.u71news.com/?page=details&article=86.174334\n",
            "Title: করোনা কাড়ল আরও ২৬ জনের প্রাণ, Link: http://www.u71news.com/?page=details&article=86.174277\n",
            "Title: বিশ্বে করোনায় মৃত্যু প্রায় সাড়ে ৩৪ লাখ, Link: http://www.u71news.com/?page=details&article=86.174266\n",
            "Title: করোনায় মৃত্যু ৩৬, শনাক্ত ১৪৫৭, Link: http://www.u71news.com/?page=details&article=86.174199\n",
            "2\n",
            "Title: করোনায় বিশ্বব্যাপী গড় মৃত্যুঝুঁকি কমছে, Link: http://www.u71news.com/?page=details&article=37.146906\n",
            "Title: করোনায় বিশ্বব্যাপী গড় মৃত্যুঝুঁকি কমছে, Link: http://www.u71news.com/?page=details&article=37.146906\n",
            "Title: করোনামুক্ত পুরো পরিবার, মুম্বাইয়ে ফিরলেন রণবীর-দীপিকা, Link: http://www.u71news.com/?page=details&article=29.174547\n",
            "Title: করোনামুক্ত পুরো পরিবার, মুম্বাইয়ে ফিরলেন রণবীর-দীপিকা, Link: http://www.u71news.com/?page=details&article=29.174547\n",
            "Title: বিশ্বে একদিনে করোনায় ১৩ হাজার মানুষের প্রাণহানি, Link: http://www.u71news.com/?page=details&article=86.174173\n",
            "Title: ভারতে ঘরে বসে করোনা পরীক্ষায় কিটের অনুমোদন, Link: http://www.u71news.com/?page=details&article=86.174170\n",
            "Title: করোনার কারণে আবারও স্থগিত এশিয়া কাপ ক্রিকেট, Link: http://www.u71news.com/?page=details&article=25.174159\n",
            "Title: সাতক্ষীরায় ভারত ফেরত ১৪২ যাত্রীর মধ্যে ১১ জনের করোনা শনাক্ত, Link: http://www.u71news.com/?page=details&article=20.174129\n",
            "Title: করোনা রোগীদের জন্য ৪০টি অক্সিজেন জেনারেটর ক্রয়ের অনুমোদন, Link: http://www.u71news.com/?page=details&article=26.174108\n",
            "Title: করোনায় মৃত্যু ৩৭, শনাক্ত ১৬০৮, Link: http://www.u71news.com/?page=details&article=86.174098\n",
            "Title: বিশ্বে করোনায় একদিনে ১৪ হাজার মৃত্যু, Link: http://www.u71news.com/?page=details&article=86.174069\n",
            "Title: করোনায় আরও ৩০ মৃত্যু, শনাক্ত ১২৭২, Link: http://www.u71news.com/?page=details&article=86.174018\n",
            "Title: কুড়িগ্রামে করোনা ভাইরাস প্রতিরোধে জন সচেতনতায় ক্যাম্পেইন, Link: http://www.u71news.com/?page=details&article=20.174007\n",
            "Title: করোনায় ক্ষতিগ্রস্ত প্রকল্প সর্বোচ্চ অগ্রাধিকার দিয়ে শেষ করতে হবে, Link: http://www.u71news.com/?page=details&article=67.173989\n",
            "Title: করোনায় মৃত্যু ৩৪ লাখ ছাড়াল, Link: http://www.u71news.com/?page=details&article=86.173963\n",
            "Title: ভারতে করোনায় একদিনে মৃত্যুর নতুন রেকর্ড, Link: http://www.u71news.com/?page=details&article=86.173960\n",
            "Title: নড়াইলে করোনায় ক্ষতিগ্রস্ত ৪০০ জনকে খাদ্য সামগ্রী বিতরণ, Link: http://www.u71news.com/?page=details&article=20.173938\n",
            "Title: দুর্নীতির কারণে করোনা নিয়ন্ত্রণে ব্যর্থ সরকার : ফখরুল, Link: http://www.u71news.com/?page=details&article=20.173924\n",
            "Title: নওগাঁয় ৪ জন করোনায় আক্রান্ত, Link: http://www.u71news.com/?page=details&article=20.173920\n",
            "Title: করোনায় ২৪ ঘণ্টায় মৃত্যু-সংক্রমণ বেড়েছে, Link: http://www.u71news.com/?page=details&article=86.173914\n",
            "Title: করোনায় মৃত্যুর সংখ্যা ৩৩ লাখ ৯২ হাজার ছাড়াল, Link: http://www.u71news.com/?page=details&article=86.173881\n",
            "Title: করোনা পরিস্থিতিতে ঋণের যন্ত্রনা সহ্য করতে না পেরে ব্যবসায়ীর আত্মহত্যা, Link: http://www.u71news.com/?page=details&article=20.173867\n",
            "Title: করোনা রোগীর হঠাৎ শ্বাসকষ্ট হলে করণীয়, Link: http://www.u71news.com/?page=details&article=32.173855\n",
            "Title: করোনায় একদিনে আরও ১২ হাজার মৃত্যু, Link: http://www.u71news.com/?page=details&article=86.173841\n",
            "3\n"
          ],
          "name": "stdout"
        }
      ]
    }
  ]
}